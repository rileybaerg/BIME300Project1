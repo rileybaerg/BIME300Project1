{
  "nbformat": 4,
  "nbformat_minor": 0,
  "metadata": {
    "colab": {
      "provenance": []
    },
    "kernelspec": {
      "name": "python3",
      "display_name": "Python 3"
    },
    "language_info": {
      "name": "python"
    }
  },
  "cells": [
    {
      "cell_type": "code",
      "execution_count": null,
      "metadata": {
        "colab": {
          "base_uri": "https://localhost:8080/"
        },
        "id": "J3fC-rVRq_eU",
        "outputId": "855380c6-bdf1-4404-a2d0-7c5aca49edc4"
      },
      "outputs": [
        {
          "output_type": "stream",
          "name": "stdout",
          "text": [
            "Drive already mounted at /content/drive; to attempt to forcibly remount, call drive.mount(\"/content/drive\", force_remount=True).\n"
          ]
        }
      ],
      "source": [
        "# mount to google drive\n",
        "from google.colab import drive\n",
        "drive.mount('/content/drive')"
      ]
    },
    {
      "cell_type": "code",
      "source": [
        "# import the libraries necessary for reading files, creating dataframes, and utilizing regex formulas/equations\n",
        "import os\n",
        "import pandas as pd\n",
        "import re\n",
        "\n",
        "# create a dictionary for synonyms\n",
        "synonyms = {\n",
        "    \"afib\": \"atrial fibrillation\",\n",
        "    \"copd\": \"chronic obstructive pulmonary disease\",\n",
        "    \"pna\": \"pneumonia\",\n",
        "    \"cva\": \"cerebrovascular disease\",\n",
        "    \"uti\": \"urinary tract infection\",\n",
        "    \"htn\": \"hypertension\",\n",
        "    \"chf\": \"chronic systolic heart failure\",\n",
        "    \"cri\": \"chronic kidney disease\",\n",
        "    \"ugib\": \"gastrointestinal hemorrhage\",\n",
        "    \"gib\": \"gastrointestinal hemorrhage\",\n",
        "    \"gi bleed\": \"gastrointestinal hemorrhage\",\n",
        "    \"dm2\": \"type 2 diabetes mellitus\",\n",
        "    \"dm\": \"type 1 diabetes mellitus\",\n",
        "    \"diabetes type 2\": \"type 2 diabetes mellitus\",\n",
        "    \"diabetes mellitus type ii\": \"type 2 diabetes mellitus\",\n",
        "    \"cad\": \"atherosclerotic heart disease\",\n",
        "    \"ards\": \"acute respiratory distress syndrome\",\n",
        "    \"siadh\": \"syndrome of inappropriate secretion of antidiuretic hormone\",\n",
        "    \"esrd on pd\": \"end stage renal disease\",\n",
        "    \"esrd on hd\": \"end stage renal disease\",\n",
        "    \"diabetes type\": \"type 1 diabetes mellitus\",\n",
        "    \"nstemi\": \"non-st elevation myocardial infarcation\",\n",
        "    \"shoulder oa\": \"shoulder osteoarthritis\",\n",
        "    \"ruptured aaa\": \"abdominal aortic aneurysm, ruptured\",\n",
        "    \"gram negative rod bacteremia\": \"bacteremia\",\n",
        "    \"c difficile colitis\": \"clostridium difficile colitis\",\n",
        "    \"hcv cirrhosis\": \"hepititus c virus cirrhosis\"\n",
        "    # additional synonyms found will go here\n",
        "}\n",
        "\n",
        "diagnosis_count = {} # dictionary for tracking diseases with their count of appearances in the EHR\n",
        "notes_directory = \"/content/drive/My Drive/Colab Notebooks/DischargeNotes-05\" # directory of patient notes\n",
        "note_list = os.listdir(notes_directory) # create a list containing strings of the name of each EHR text file\n",
        "patients_with_diagnosis = 0 # initialize the amount of patients with a diagnosis as 0 before iterating through files\n",
        "\n",
        "# read each file from the list of health records\n",
        "for filename in note_list:\n",
        "  with open(os.path.join(notes_directory, filename), 'r', encoding='utf-8') as f:\n",
        "    patient_diagnoses = [] # form our list of diagnoses for the folder of EHR txt files\n",
        "    reading_diagnoses = False # variable to flag whether we are reading diagnoses\n",
        "\n",
        "    # iterarte through each line of the patient's health record\n",
        "    for line in f:\n",
        "      # check if we are starting to read the diagnoses\n",
        "      if \"Discharge Diagnosis:\" in line or \"Primary Diagnosis:\" in line:\n",
        "        patients_with_diagnosis += 1 # we add to the total number of patients with a diagnosis\n",
        "        reading_diagnoses = True # we now know we are checking out a diagnosis summary so we must operate on it\n",
        "        continue\n",
        "\n",
        "      # check if we should stop reading diagnoses (reached an empty line)\n",
        "      if reading_diagnoses and not line.strip():\n",
        "        reading_diagnoses = False\n",
        "        continue\n",
        "\n",
        "      # operate if a discharge diagnosis is detected\n",
        "      if reading_diagnoses:\n",
        "        diagnosis = re.sub(r'^[1-9][0-9]*\\)|[1-9][0-9]*\\s*', '', line) # gets rid of all numbers and parantheses from diagnosis\n",
        "        diagnosis = re.sub(r'\\[.*?\\]', '', diagnosis) # remove any portions of text including and in between square brackets\n",
        "        diagnosis = diagnosis.replace(\".\", \"\") # replace periods with white space\n",
        "        diagnosis = diagnosis.strip() # remove leading/trailing spaces\n",
        "        diagnosis = diagnosis.lower() # changes diagnosis to lowercase\n",
        "\n",
        "        # look through the synonym dictionary and replace any detected shorthand\n",
        "        for synonym, term in synonyms.items():\n",
        "          if synonym in diagnosis:\n",
        "            diagnosis = term\n",
        "\n",
        "        # add diagnosis to the patient diagnosis list\n",
        "        if diagnosis:\n",
        "          patient_diagnoses.append(diagnosis)\n",
        "\n",
        "    # goes through the diagnosis list and adds to the count or creates a new count\n",
        "    if patient_diagnoses:\n",
        "      for diagnosis in patient_diagnoses:\n",
        "        if diagnosis in diagnosis_count:\n",
        "          diagnosis_count[diagnosis] += 1\n",
        "        else:\n",
        "          diagnosis_count[diagnosis] = 1\n",
        "\n",
        "df = pd.DataFrame(diagnosis_count.items(), columns=['Diagnosis', 'Count']) # create pandas df with diagnosis and count columns\n",
        "df = df.sort_values(by='Count', ascending=False) # ordering the count values by decending order\n",
        "to_remove = [\"secondary:\", \"primary:\", \"secondary diagnosis:\", \"primary diagnosis:\", \"primary diagnoses:\"] # note the list false diagnoses, aka diagnosis headings\n",
        "df = df[~df['Diagnosis'].str.lower().str.strip().str.contains('|'.join(to_remove))] # actual removal: takes out diagnosis headings, whitespaces, and makes diseases all lowercase\n",
        "total_counts = df['Count'].sum() # count the total number of diseases detected through cleaning process\n",
        "\n",
        "# Adding \" patients\" based on the count value\n",
        "for index, row in df.iterrows():\n",
        "    count = row['Count']\n",
        "    if count == 1:\n",
        "        df.at[index, 'Count'] = str(count) + \" patient\"\n",
        "    elif count >= 2:\n",
        "        df.at[index, 'Count'] = str(count) + \" patients\"\n",
        "\n",
        "# printing out the top ten table (head) of the most prevalent diseases\n",
        "top_10_diseases = df.head(10)\n",
        "print(top_10_diseases.to_string(index=False))\n",
        "\n",
        "# printing out of additional summary including the average number of diseases of patients with at least 1 disease\n",
        "print()\n",
        "print(\"Number of patients with at least 1 diagnosis:\", patients_with_diagnosis)\n",
        "print(\"Number of diseases found through record cleaning:\", total_counts)\n",
        "avg_diagnoses = (total_counts / patients_with_diagnosis)\n",
        "print(\"Average number of diagnoses per patient with at least 1 diagnosis:\", avg_diagnoses)"
      ],
      "metadata": {
        "id": "igOaZV_Iwjjs",
        "colab": {
          "base_uri": "https://localhost:8080/"
        },
        "outputId": "7574db5b-6f6a-4666-ba5c-333d501cbb73"
      },
      "execution_count": 63,
      "outputs": [
        {
          "output_type": "stream",
          "name": "stdout",
          "text": [
            "                            Diagnosis       Count\n",
            "                         hypertension 11 patients\n",
            "                  atrial fibrillation  8 patients\n",
            "                  acute renal failure  7 patients\n",
            "       chronic systolic heart failure  6 patients\n",
            "          gastrointestinal hemorrhage  5 patients\n",
            "             type 1 diabetes mellitus  5 patients\n",
            "chronic obstructive pulmonary disease  5 patients\n",
            "             congestive heart failure  5 patients\n",
            "        atherosclerotic heart disease  4 patients\n",
            "              urinary tract infection  4 patients\n",
            "\n",
            "Number of patients with at least 1 diagnosis: 55\n",
            "Number of diseases found through record cleaning: 260\n",
            "Average number of diagnoses per patient with at least 1 diagnosis: 4.7272727272727275\n"
          ]
        }
      ]
    }
  ]
}